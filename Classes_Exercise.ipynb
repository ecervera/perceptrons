{
 "cells": [
  {
   "cell_type": "markdown",
   "metadata": {},
   "source": [
    "# Linearly separable classification with a perceptron\n",
    "\n",
    "Perceptrons not only can model logical functions, but they are linear classifiers that work well for linearly separable problems."
   ]
  },
  {
   "cell_type": "code",
   "execution_count": null,
   "metadata": {
    "collapsed": false
   },
   "outputs": [],
   "source": [
    "# DON'T MODIFY THIS CODE\n",
    "import numpy as np\n",
    "import sklearn.linear_model\n",
    "\n",
    "import matplotlib.pyplot as plt\n",
    "from packages.plot import plot_decision_boundary, plot_data\n",
    "%matplotlib inline"
   ]
  },
  {
   "cell_type": "markdown",
   "metadata": {},
   "source": [
    "## Load in the data\n",
    "\n",
    "Let's imagine that there are two classes of dots (red and black). Each dot is defined by two features. The dataset consists of a matrix `x` with as many rows as dots, and two columns, and the vector `y` with as many elements as dots. The value of `y[i]` is 0 for red dots and 1 for black dots.\n",
    "\n",
    "You must fill in the values of the second row of matrix `x` and vector `y`, at your choice, with these restrictions:\n",
    "* the values of matrix `x` must be between 1 and 7 (inclusive)\n",
    "* the values of vector `y` must be 0's (red dots) or 1's (black dots)\n",
    "* there should be between 5 and 9 red dots (inclusive)\n",
    "* the set of red dots must be **linearly separable** from the set of black dots"
   ]
  },
  {
   "cell_type": "code",
   "execution_count": null,
   "metadata": {
    "collapsed": false
   },
   "outputs": [],
   "source": [
    "# FILL IN THE MISSING VALUES\n",
    "\n",
    "x = np.array([[2,2],[1,3],[2,3],[5,3],[7,3],[2,4],[3,4],\\\n",
    "                   ,     ,     ,     ,     ,     , ])\n",
    "\n",
    "y = np.array([ , , , , , , , , , , , , , ])"
   ]
  },
  {
   "cell_type": "markdown",
   "metadata": {},
   "source": [
    "## Plot the data\n",
    "\n",
    "Let's represent graphically the data. Make sure that the sets are linearly separable."
   ]
  },
  {
   "cell_type": "code",
   "execution_count": null,
   "metadata": {
    "collapsed": false
   },
   "outputs": [],
   "source": [
    "# DON'T MODIFY THIS CODE\n",
    "plot_data(x, y)\n",
    "plt.axis([0,8,0,8]);"
   ]
  },
  {
   "cell_type": "markdown",
   "metadata": {},
   "source": [
    "## Build the model\n",
    "Create a [perceptron object](http://scikit-learn.org/stable/modules/generated/sklearn.linear_model.Perceptron.html)."
   ]
  },
  {
   "cell_type": "code",
   "execution_count": null,
   "metadata": {
    "collapsed": false
   },
   "outputs": [],
   "source": [
    "# ADD THE NECESSARY STATEMENTS HERE"
   ]
  },
  {
   "cell_type": "markdown",
   "metadata": {},
   "source": [
    "## Train\n",
    "Repeat the following cell (`Ctrl+Enter`) until the model converges."
   ]
  },
  {
   "cell_type": "code",
   "execution_count": null,
   "metadata": {
    "collapsed": false
   },
   "outputs": [],
   "source": [
    "# ADD THE NECESSARY STATEMENTS HERE\n",
    "\n",
    "# DON'T MODIFY THE CODE BELOW\n",
    "print(\"Coefficient 0: %6.3f\" % net.coef_[0,0])\n",
    "print(\"Coefficient 1: %6.3f\" % net.coef_[0,1])\n",
    "print(\"         Bias: %6.3f\" % net.intercept_)\n",
    "plot_data(x, y)\n",
    "plt.axis([0,8,0,8]);\n",
    "plot_decision_boundary(net)\n",
    "print('    Target: %s' % np.array_str(y))\n",
    "print('Prediction: %s' % np.array_str(net.predict(x)))"
   ]
  },
  {
   "cell_type": "markdown",
   "metadata": {},
   "source": [
    "When the model converges, the perceptron boundary completely separates the samples of each class (0's and 1's)."
   ]
  },
  {
   "cell_type": "code",
   "execution_count": null,
   "metadata": {},
   "outputs": [],
   "source": []
  }
 ],
 "metadata": {
  "anaconda-cloud": {},
  "kernelspec": {
   "display_name": "Python 2",
   "language": "python",
   "name": "python2"
  },
  "language_info": {
   "codemirror_mode": {
    "name": "ipython",
    "version": 2
   },
   "file_extension": ".py",
   "mimetype": "text/x-python",
   "name": "python",
   "nbconvert_exporter": "python",
   "pygments_lexer": "ipython2",
   "version": "2.7.15"
  }
 },
 "nbformat": 4,
 "nbformat_minor": 2
}
